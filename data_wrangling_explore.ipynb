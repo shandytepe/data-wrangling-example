{
 "cells": [
  {
   "cell_type": "markdown",
   "metadata": {},
   "source": [
    "# **Notebook Data Wrangling**\n",
    "---\n",
    "\n",
    "Untuk kebutuhan Thread Twitter Pacmann"
   ]
  },
  {
   "cell_type": "code",
   "execution_count": 1,
   "metadata": {},
   "outputs": [],
   "source": [
    "import pandas as pd"
   ]
  },
  {
   "cell_type": "code",
   "execution_count": 24,
   "metadata": {},
   "outputs": [
    {
     "data": {
      "text/html": [
       "<div>\n",
       "<style scoped>\n",
       "    .dataframe tbody tr th:only-of-type {\n",
       "        vertical-align: middle;\n",
       "    }\n",
       "\n",
       "    .dataframe tbody tr th {\n",
       "        vertical-align: top;\n",
       "    }\n",
       "\n",
       "    .dataframe thead th {\n",
       "        text-align: right;\n",
       "    }\n",
       "</style>\n",
       "<table border=\"1\" class=\"dataframe\">\n",
       "  <thead>\n",
       "    <tr style=\"text-align: right;\">\n",
       "      <th></th>\n",
       "      <th>Unnamed: 0</th>\n",
       "      <th>rental_id</th>\n",
       "      <th>customer_id</th>\n",
       "      <th>rental_date</th>\n",
       "      <th>rental_status</th>\n",
       "      <th>return_date</th>\n",
       "    </tr>\n",
       "  </thead>\n",
       "  <tbody>\n",
       "    <tr>\n",
       "      <th>0</th>\n",
       "      <td>0</td>\n",
       "      <td>fEep-28587-734.</td>\n",
       "      <td>743</td>\n",
       "      <td>2017-04-05</td>\n",
       "      <td>Returned</td>\n",
       "      <td>2017-04-14</td>\n",
       "    </tr>\n",
       "    <tr>\n",
       "      <th>1</th>\n",
       "      <td>1</td>\n",
       "      <td>uNLr-14032-611.</td>\n",
       "      <td>806</td>\n",
       "      <td>2017-07-13</td>\n",
       "      <td>Rented</td>\n",
       "      <td>NaN</td>\n",
       "    </tr>\n",
       "    <tr>\n",
       "      <th>2</th>\n",
       "      <td>2</td>\n",
       "      <td>PfzU-19322-932.</td>\n",
       "      <td>230</td>\n",
       "      <td>2015-04-25</td>\n",
       "      <td>Returned</td>\n",
       "      <td>2015-05-01</td>\n",
       "    </tr>\n",
       "    <tr>\n",
       "      <th>3</th>\n",
       "      <td>3</td>\n",
       "      <td>cOLR-80286-356.</td>\n",
       "      <td>369</td>\n",
       "      <td>2023-02-06</td>\n",
       "      <td>Rented</td>\n",
       "      <td>NaN</td>\n",
       "    </tr>\n",
       "    <tr>\n",
       "      <th>4</th>\n",
       "      <td>4</td>\n",
       "      <td>ZbEy-33182-842.</td>\n",
       "      <td>363</td>\n",
       "      <td>2016-07-06</td>\n",
       "      <td>Returned</td>\n",
       "      <td>2016-07-17</td>\n",
       "    </tr>\n",
       "  </tbody>\n",
       "</table>\n",
       "</div>"
      ],
      "text/plain": [
       "   Unnamed: 0        rental_id  customer_id rental_date rental_status  \\\n",
       "0           0  fEep-28587-734.          743  2017-04-05      Returned   \n",
       "1           1  uNLr-14032-611.          806  2017-07-13        Rented   \n",
       "2           2  PfzU-19322-932.          230  2015-04-25      Returned   \n",
       "3           3  cOLR-80286-356.          369  2023-02-06        Rented   \n",
       "4           4  ZbEy-33182-842.          363  2016-07-06      Returned   \n",
       "\n",
       "  return_date  \n",
       "0  2017-04-14  \n",
       "1         NaN  \n",
       "2  2015-05-01  \n",
       "3         NaN  \n",
       "4  2016-07-17  "
      ]
     },
     "execution_count": 24,
     "metadata": {},
     "output_type": "execute_result"
    }
   ],
   "source": [
    "# read data\n",
    "rental_data = pd.read_csv(\"rental_data.csv\")\n",
    "\n",
    "rental_data.head()"
   ]
  },
  {
   "cell_type": "markdown",
   "metadata": {},
   "source": [
    "Check missing values"
   ]
  },
  {
   "cell_type": "code",
   "execution_count": 25,
   "metadata": {},
   "outputs": [
    {
     "data": {
      "text/plain": [
       "Unnamed: 0         0\n",
       "rental_id          0\n",
       "customer_id        0\n",
       "rental_date        0\n",
       "rental_status      0\n",
       "return_date      515\n",
       "dtype: int64"
      ]
     },
     "execution_count": 25,
     "metadata": {},
     "output_type": "execute_result"
    }
   ],
   "source": [
    "rental_data.isna().sum()"
   ]
  },
  {
   "cell_type": "markdown",
   "metadata": {},
   "source": [
    "Drop kolom `Unnamed: 0` karena tidak dibutuhkan"
   ]
  },
  {
   "cell_type": "code",
   "execution_count": 26,
   "metadata": {},
   "outputs": [
    {
     "data": {
      "text/html": [
       "<div>\n",
       "<style scoped>\n",
       "    .dataframe tbody tr th:only-of-type {\n",
       "        vertical-align: middle;\n",
       "    }\n",
       "\n",
       "    .dataframe tbody tr th {\n",
       "        vertical-align: top;\n",
       "    }\n",
       "\n",
       "    .dataframe thead th {\n",
       "        text-align: right;\n",
       "    }\n",
       "</style>\n",
       "<table border=\"1\" class=\"dataframe\">\n",
       "  <thead>\n",
       "    <tr style=\"text-align: right;\">\n",
       "      <th></th>\n",
       "      <th>rental_id</th>\n",
       "      <th>customer_id</th>\n",
       "      <th>rental_date</th>\n",
       "      <th>rental_status</th>\n",
       "      <th>return_date</th>\n",
       "    </tr>\n",
       "  </thead>\n",
       "  <tbody>\n",
       "    <tr>\n",
       "      <th>0</th>\n",
       "      <td>fEep-28587-734.</td>\n",
       "      <td>743</td>\n",
       "      <td>2017-04-05</td>\n",
       "      <td>Returned</td>\n",
       "      <td>2017-04-14</td>\n",
       "    </tr>\n",
       "    <tr>\n",
       "      <th>1</th>\n",
       "      <td>uNLr-14032-611.</td>\n",
       "      <td>806</td>\n",
       "      <td>2017-07-13</td>\n",
       "      <td>Rented</td>\n",
       "      <td>NaN</td>\n",
       "    </tr>\n",
       "    <tr>\n",
       "      <th>2</th>\n",
       "      <td>PfzU-19322-932.</td>\n",
       "      <td>230</td>\n",
       "      <td>2015-04-25</td>\n",
       "      <td>Returned</td>\n",
       "      <td>2015-05-01</td>\n",
       "    </tr>\n",
       "    <tr>\n",
       "      <th>3</th>\n",
       "      <td>cOLR-80286-356.</td>\n",
       "      <td>369</td>\n",
       "      <td>2023-02-06</td>\n",
       "      <td>Rented</td>\n",
       "      <td>NaN</td>\n",
       "    </tr>\n",
       "    <tr>\n",
       "      <th>4</th>\n",
       "      <td>ZbEy-33182-842.</td>\n",
       "      <td>363</td>\n",
       "      <td>2016-07-06</td>\n",
       "      <td>Returned</td>\n",
       "      <td>2016-07-17</td>\n",
       "    </tr>\n",
       "  </tbody>\n",
       "</table>\n",
       "</div>"
      ],
      "text/plain": [
       "         rental_id  customer_id rental_date rental_status return_date\n",
       "0  fEep-28587-734.          743  2017-04-05      Returned  2017-04-14\n",
       "1  uNLr-14032-611.          806  2017-07-13        Rented         NaN\n",
       "2  PfzU-19322-932.          230  2015-04-25      Returned  2015-05-01\n",
       "3  cOLR-80286-356.          369  2023-02-06        Rented         NaN\n",
       "4  ZbEy-33182-842.          363  2016-07-06      Returned  2016-07-17"
      ]
     },
     "execution_count": 26,
     "metadata": {},
     "output_type": "execute_result"
    }
   ],
   "source": [
    "rental_data = rental_data.drop([\"Unnamed: 0\"], axis = 1)\n",
    "\n",
    "rental_data.head()"
   ]
  },
  {
   "cell_type": "markdown",
   "metadata": {},
   "source": [
    "### **Remove dot (.) from `rental_id`**\n",
    "---"
   ]
  },
  {
   "cell_type": "markdown",
   "metadata": {},
   "source": [
    "Karena `rental_id` memiliki tipe data `object`, maka kita perlu convert menjadi `str` terlebih dahulu baru bisa menghilangkan `dot(.)`"
   ]
  },
  {
   "cell_type": "code",
   "execution_count": 27,
   "metadata": {},
   "outputs": [
    {
     "data": {
      "text/html": [
       "<div>\n",
       "<style scoped>\n",
       "    .dataframe tbody tr th:only-of-type {\n",
       "        vertical-align: middle;\n",
       "    }\n",
       "\n",
       "    .dataframe tbody tr th {\n",
       "        vertical-align: top;\n",
       "    }\n",
       "\n",
       "    .dataframe thead th {\n",
       "        text-align: right;\n",
       "    }\n",
       "</style>\n",
       "<table border=\"1\" class=\"dataframe\">\n",
       "  <thead>\n",
       "    <tr style=\"text-align: right;\">\n",
       "      <th></th>\n",
       "      <th>rental_id</th>\n",
       "      <th>customer_id</th>\n",
       "      <th>rental_date</th>\n",
       "      <th>rental_status</th>\n",
       "      <th>return_date</th>\n",
       "    </tr>\n",
       "  </thead>\n",
       "  <tbody>\n",
       "    <tr>\n",
       "      <th>0</th>\n",
       "      <td>fEep-28587-734</td>\n",
       "      <td>743</td>\n",
       "      <td>2017-04-05</td>\n",
       "      <td>Returned</td>\n",
       "      <td>2017-04-14</td>\n",
       "    </tr>\n",
       "    <tr>\n",
       "      <th>1</th>\n",
       "      <td>uNLr-14032-611</td>\n",
       "      <td>806</td>\n",
       "      <td>2017-07-13</td>\n",
       "      <td>Rented</td>\n",
       "      <td>NaN</td>\n",
       "    </tr>\n",
       "    <tr>\n",
       "      <th>2</th>\n",
       "      <td>PfzU-19322-932</td>\n",
       "      <td>230</td>\n",
       "      <td>2015-04-25</td>\n",
       "      <td>Returned</td>\n",
       "      <td>2015-05-01</td>\n",
       "    </tr>\n",
       "    <tr>\n",
       "      <th>3</th>\n",
       "      <td>cOLR-80286-356</td>\n",
       "      <td>369</td>\n",
       "      <td>2023-02-06</td>\n",
       "      <td>Rented</td>\n",
       "      <td>NaN</td>\n",
       "    </tr>\n",
       "    <tr>\n",
       "      <th>4</th>\n",
       "      <td>ZbEy-33182-842</td>\n",
       "      <td>363</td>\n",
       "      <td>2016-07-06</td>\n",
       "      <td>Returned</td>\n",
       "      <td>2016-07-17</td>\n",
       "    </tr>\n",
       "  </tbody>\n",
       "</table>\n",
       "</div>"
      ],
      "text/plain": [
       "        rental_id  customer_id rental_date rental_status return_date\n",
       "0  fEep-28587-734          743  2017-04-05      Returned  2017-04-14\n",
       "1  uNLr-14032-611          806  2017-07-13        Rented         NaN\n",
       "2  PfzU-19322-932          230  2015-04-25      Returned  2015-05-01\n",
       "3  cOLR-80286-356          369  2023-02-06        Rented         NaN\n",
       "4  ZbEy-33182-842          363  2016-07-06      Returned  2016-07-17"
      ]
     },
     "execution_count": 27,
     "metadata": {},
     "output_type": "execute_result"
    }
   ],
   "source": [
    "rental_data[\"rental_id\"] = rental_data[\"rental_id\"].str.replace(\".\", \"\")\n",
    "\n",
    "rental_data.head()"
   ]
  },
  {
   "cell_type": "markdown",
   "metadata": {},
   "source": [
    "### **Change Value in `rental_status`**\n",
    "---"
   ]
  },
  {
   "cell_type": "markdown",
   "metadata": {},
   "source": [
    "Cek sebelum mapping values"
   ]
  },
  {
   "cell_type": "code",
   "execution_count": 28,
   "metadata": {},
   "outputs": [
    {
     "data": {
      "text/plain": [
       "{'Rented': 486, 'Returned': 387, 'Late': 61, 'Overdue': 37, 'Returns': 29}"
      ]
     },
     "execution_count": 28,
     "metadata": {},
     "output_type": "execute_result"
    }
   ],
   "source": [
    "rental_data[\"rental_status\"].value_counts().to_dict()"
   ]
  },
  {
   "cell_type": "markdown",
   "metadata": {},
   "source": [
    "Membuat function yang digunakan untuk proses Mapping Values"
   ]
  },
  {
   "cell_type": "code",
   "execution_count": 29,
   "metadata": {},
   "outputs": [],
   "source": [
    "def mapping_values(data):\n",
    "    rental_data = data\n",
    "    \n",
    "    REPLACE_VALUES = {\n",
    "        \"Overdue\": \"Late\",\n",
    "        \"Returns\": \"Returned\"\n",
    "    }\n",
    "    \n",
    "    rental_data = rental_data.replace(REPLACE_VALUES)\n",
    "    \n",
    "    return rental_data"
   ]
  },
  {
   "cell_type": "code",
   "execution_count": 30,
   "metadata": {},
   "outputs": [],
   "source": [
    "rental_data = rental_data.apply(mapping_values)"
   ]
  },
  {
   "cell_type": "markdown",
   "metadata": {},
   "source": [
    "Cek setelah mapping values"
   ]
  },
  {
   "cell_type": "code",
   "execution_count": 31,
   "metadata": {},
   "outputs": [
    {
     "data": {
      "text/plain": [
       "{'Rented': 486, 'Returned': 416, 'Late': 98}"
      ]
     },
     "execution_count": 31,
     "metadata": {},
     "output_type": "execute_result"
    }
   ],
   "source": [
    "rental_data[\"rental_status\"].value_counts().to_dict()"
   ]
  },
  {
   "cell_type": "markdown",
   "metadata": {},
   "source": [
    "### **Extract Year and Month in `rental_date`**\n",
    "---"
   ]
  },
  {
   "cell_type": "markdown",
   "metadata": {},
   "source": [
    "Convert it to `datetime` first"
   ]
  },
  {
   "cell_type": "code",
   "execution_count": 32,
   "metadata": {},
   "outputs": [
    {
     "name": "stdout",
     "output_type": "stream",
     "text": [
      "<class 'pandas.core.frame.DataFrame'>\n",
      "RangeIndex: 1000 entries, 0 to 999\n",
      "Data columns (total 5 columns):\n",
      " #   Column         Non-Null Count  Dtype \n",
      "---  ------         --------------  ----- \n",
      " 0   rental_id      1000 non-null   object\n",
      " 1   customer_id    1000 non-null   int64 \n",
      " 2   rental_date    1000 non-null   object\n",
      " 3   rental_status  1000 non-null   object\n",
      " 4   return_date    485 non-null    object\n",
      "dtypes: int64(1), object(4)\n",
      "memory usage: 39.2+ KB\n"
     ]
    }
   ],
   "source": [
    "rental_data.info()"
   ]
  },
  {
   "cell_type": "code",
   "execution_count": 34,
   "metadata": {},
   "outputs": [
    {
     "data": {
      "text/plain": [
       "0     2017-04-05\n",
       "1     2017-07-13\n",
       "2     2015-04-25\n",
       "3     2023-02-06\n",
       "4     2016-07-06\n",
       "         ...    \n",
       "995   2020-07-03\n",
       "996   2020-12-01\n",
       "997   2020-01-30\n",
       "998   2020-06-01\n",
       "999   2015-02-25\n",
       "Name: rental_date, Length: 1000, dtype: datetime64[ns]"
      ]
     },
     "execution_count": 34,
     "metadata": {},
     "output_type": "execute_result"
    }
   ],
   "source": [
    "rental_data[\"rental_date\"] = pd.to_datetime(rental_data[\"rental_date\"])\n",
    "\n",
    "rental_data[\"rental_date\"]"
   ]
  },
  {
   "cell_type": "code",
   "execution_count": 35,
   "metadata": {},
   "outputs": [
    {
     "name": "stdout",
     "output_type": "stream",
     "text": [
      "<class 'pandas.core.frame.DataFrame'>\n",
      "RangeIndex: 1000 entries, 0 to 999\n",
      "Data columns (total 5 columns):\n",
      " #   Column         Non-Null Count  Dtype         \n",
      "---  ------         --------------  -----         \n",
      " 0   rental_id      1000 non-null   object        \n",
      " 1   customer_id    1000 non-null   int64         \n",
      " 2   rental_date    1000 non-null   datetime64[ns]\n",
      " 3   rental_status  1000 non-null   object        \n",
      " 4   return_date    485 non-null    object        \n",
      "dtypes: datetime64[ns](1), int64(1), object(3)\n",
      "memory usage: 39.2+ KB\n"
     ]
    }
   ],
   "source": [
    "rental_data.info()"
   ]
  },
  {
   "cell_type": "markdown",
   "metadata": {},
   "source": [
    "Extract `Year` dan `Month` dengan menggunakan method `dt`"
   ]
  },
  {
   "cell_type": "code",
   "execution_count": 36,
   "metadata": {},
   "outputs": [],
   "source": [
    "rental_data[\"extract_rental_year\"] = rental_data[\"rental_date\"].dt.year\n",
    "rental_data[\"extract_rental_month\"] = rental_data[\"rental_date\"].dt.month"
   ]
  },
  {
   "cell_type": "code",
   "execution_count": 37,
   "metadata": {},
   "outputs": [
    {
     "data": {
      "text/html": [
       "<div>\n",
       "<style scoped>\n",
       "    .dataframe tbody tr th:only-of-type {\n",
       "        vertical-align: middle;\n",
       "    }\n",
       "\n",
       "    .dataframe tbody tr th {\n",
       "        vertical-align: top;\n",
       "    }\n",
       "\n",
       "    .dataframe thead th {\n",
       "        text-align: right;\n",
       "    }\n",
       "</style>\n",
       "<table border=\"1\" class=\"dataframe\">\n",
       "  <thead>\n",
       "    <tr style=\"text-align: right;\">\n",
       "      <th></th>\n",
       "      <th>rental_id</th>\n",
       "      <th>customer_id</th>\n",
       "      <th>rental_date</th>\n",
       "      <th>rental_status</th>\n",
       "      <th>return_date</th>\n",
       "      <th>extract_rental_year</th>\n",
       "      <th>extract_rental_month</th>\n",
       "    </tr>\n",
       "  </thead>\n",
       "  <tbody>\n",
       "    <tr>\n",
       "      <th>0</th>\n",
       "      <td>fEep-28587-734</td>\n",
       "      <td>743</td>\n",
       "      <td>2017-04-05</td>\n",
       "      <td>Returned</td>\n",
       "      <td>2017-04-14</td>\n",
       "      <td>2017</td>\n",
       "      <td>4</td>\n",
       "    </tr>\n",
       "    <tr>\n",
       "      <th>1</th>\n",
       "      <td>uNLr-14032-611</td>\n",
       "      <td>806</td>\n",
       "      <td>2017-07-13</td>\n",
       "      <td>Rented</td>\n",
       "      <td>NaN</td>\n",
       "      <td>2017</td>\n",
       "      <td>7</td>\n",
       "    </tr>\n",
       "    <tr>\n",
       "      <th>2</th>\n",
       "      <td>PfzU-19322-932</td>\n",
       "      <td>230</td>\n",
       "      <td>2015-04-25</td>\n",
       "      <td>Returned</td>\n",
       "      <td>2015-05-01</td>\n",
       "      <td>2015</td>\n",
       "      <td>4</td>\n",
       "    </tr>\n",
       "    <tr>\n",
       "      <th>3</th>\n",
       "      <td>cOLR-80286-356</td>\n",
       "      <td>369</td>\n",
       "      <td>2023-02-06</td>\n",
       "      <td>Rented</td>\n",
       "      <td>NaN</td>\n",
       "      <td>2023</td>\n",
       "      <td>2</td>\n",
       "    </tr>\n",
       "    <tr>\n",
       "      <th>4</th>\n",
       "      <td>ZbEy-33182-842</td>\n",
       "      <td>363</td>\n",
       "      <td>2016-07-06</td>\n",
       "      <td>Returned</td>\n",
       "      <td>2016-07-17</td>\n",
       "      <td>2016</td>\n",
       "      <td>7</td>\n",
       "    </tr>\n",
       "  </tbody>\n",
       "</table>\n",
       "</div>"
      ],
      "text/plain": [
       "        rental_id  customer_id rental_date rental_status return_date  \\\n",
       "0  fEep-28587-734          743  2017-04-05      Returned  2017-04-14   \n",
       "1  uNLr-14032-611          806  2017-07-13        Rented         NaN   \n",
       "2  PfzU-19322-932          230  2015-04-25      Returned  2015-05-01   \n",
       "3  cOLR-80286-356          369  2023-02-06        Rented         NaN   \n",
       "4  ZbEy-33182-842          363  2016-07-06      Returned  2016-07-17   \n",
       "\n",
       "   extract_rental_year  extract_rental_month  \n",
       "0                 2017                     4  \n",
       "1                 2017                     7  \n",
       "2                 2015                     4  \n",
       "3                 2023                     2  \n",
       "4                 2016                     7  "
      ]
     },
     "execution_count": 37,
     "metadata": {},
     "output_type": "execute_result"
    }
   ],
   "source": [
    "rental_data.head()"
   ]
  },
  {
   "cell_type": "markdown",
   "metadata": {},
   "source": [
    "### **Save it to different table**\n",
    "---"
   ]
  },
  {
   "cell_type": "markdown",
   "metadata": {},
   "source": [
    "- Filter data terlebih dahulu berdasarkan `rental_status`:\n",
    "    - `Returned`\n",
    "    - `Rented`\n",
    "    - `Late`"
   ]
  },
  {
   "cell_type": "code",
   "execution_count": 38,
   "metadata": {},
   "outputs": [
    {
     "data": {
      "text/html": [
       "<div>\n",
       "<style scoped>\n",
       "    .dataframe tbody tr th:only-of-type {\n",
       "        vertical-align: middle;\n",
       "    }\n",
       "\n",
       "    .dataframe tbody tr th {\n",
       "        vertical-align: top;\n",
       "    }\n",
       "\n",
       "    .dataframe thead th {\n",
       "        text-align: right;\n",
       "    }\n",
       "</style>\n",
       "<table border=\"1\" class=\"dataframe\">\n",
       "  <thead>\n",
       "    <tr style=\"text-align: right;\">\n",
       "      <th></th>\n",
       "      <th>rental_id</th>\n",
       "      <th>customer_id</th>\n",
       "      <th>rental_date</th>\n",
       "      <th>rental_status</th>\n",
       "      <th>return_date</th>\n",
       "      <th>extract_rental_year</th>\n",
       "      <th>extract_rental_month</th>\n",
       "    </tr>\n",
       "  </thead>\n",
       "  <tbody>\n",
       "    <tr>\n",
       "      <th>0</th>\n",
       "      <td>fEep-28587-734</td>\n",
       "      <td>743</td>\n",
       "      <td>2017-04-05</td>\n",
       "      <td>Returned</td>\n",
       "      <td>2017-04-14</td>\n",
       "      <td>2017</td>\n",
       "      <td>4</td>\n",
       "    </tr>\n",
       "    <tr>\n",
       "      <th>2</th>\n",
       "      <td>PfzU-19322-932</td>\n",
       "      <td>230</td>\n",
       "      <td>2015-04-25</td>\n",
       "      <td>Returned</td>\n",
       "      <td>2015-05-01</td>\n",
       "      <td>2015</td>\n",
       "      <td>4</td>\n",
       "    </tr>\n",
       "    <tr>\n",
       "      <th>4</th>\n",
       "      <td>ZbEy-33182-842</td>\n",
       "      <td>363</td>\n",
       "      <td>2016-07-06</td>\n",
       "      <td>Returned</td>\n",
       "      <td>2016-07-17</td>\n",
       "      <td>2016</td>\n",
       "      <td>7</td>\n",
       "    </tr>\n",
       "    <tr>\n",
       "      <th>6</th>\n",
       "      <td>bRbe-62231-802</td>\n",
       "      <td>53</td>\n",
       "      <td>2017-08-02</td>\n",
       "      <td>Returned</td>\n",
       "      <td>2017-08-06</td>\n",
       "      <td>2017</td>\n",
       "      <td>8</td>\n",
       "    </tr>\n",
       "    <tr>\n",
       "      <th>7</th>\n",
       "      <td>KAuP-78858-794</td>\n",
       "      <td>886</td>\n",
       "      <td>2022-12-14</td>\n",
       "      <td>Returned</td>\n",
       "      <td>2022-12-25</td>\n",
       "      <td>2022</td>\n",
       "      <td>12</td>\n",
       "    </tr>\n",
       "  </tbody>\n",
       "</table>\n",
       "</div>"
      ],
      "text/plain": [
       "        rental_id  customer_id rental_date rental_status return_date  \\\n",
       "0  fEep-28587-734          743  2017-04-05      Returned  2017-04-14   \n",
       "2  PfzU-19322-932          230  2015-04-25      Returned  2015-05-01   \n",
       "4  ZbEy-33182-842          363  2016-07-06      Returned  2016-07-17   \n",
       "6  bRbe-62231-802           53  2017-08-02      Returned  2017-08-06   \n",
       "7  KAuP-78858-794          886  2022-12-14      Returned  2022-12-25   \n",
       "\n",
       "   extract_rental_year  extract_rental_month  \n",
       "0                 2017                     4  \n",
       "2                 2015                     4  \n",
       "4                 2016                     7  \n",
       "6                 2017                     8  \n",
       "7                 2022                    12  "
      ]
     },
     "execution_count": 38,
     "metadata": {},
     "output_type": "execute_result"
    }
   ],
   "source": [
    "rental_returned_data = rental_data[rental_data[\"rental_status\"] == \"Returned\"]\n",
    "\n",
    "rental_returned_data.head()"
   ]
  },
  {
   "cell_type": "code",
   "execution_count": 39,
   "metadata": {},
   "outputs": [
    {
     "data": {
      "text/html": [
       "<div>\n",
       "<style scoped>\n",
       "    .dataframe tbody tr th:only-of-type {\n",
       "        vertical-align: middle;\n",
       "    }\n",
       "\n",
       "    .dataframe tbody tr th {\n",
       "        vertical-align: top;\n",
       "    }\n",
       "\n",
       "    .dataframe thead th {\n",
       "        text-align: right;\n",
       "    }\n",
       "</style>\n",
       "<table border=\"1\" class=\"dataframe\">\n",
       "  <thead>\n",
       "    <tr style=\"text-align: right;\">\n",
       "      <th></th>\n",
       "      <th>rental_id</th>\n",
       "      <th>customer_id</th>\n",
       "      <th>rental_date</th>\n",
       "      <th>rental_status</th>\n",
       "      <th>return_date</th>\n",
       "      <th>extract_rental_year</th>\n",
       "      <th>extract_rental_month</th>\n",
       "    </tr>\n",
       "  </thead>\n",
       "  <tbody>\n",
       "    <tr>\n",
       "      <th>1</th>\n",
       "      <td>uNLr-14032-611</td>\n",
       "      <td>806</td>\n",
       "      <td>2017-07-13</td>\n",
       "      <td>Rented</td>\n",
       "      <td>NaN</td>\n",
       "      <td>2017</td>\n",
       "      <td>7</td>\n",
       "    </tr>\n",
       "    <tr>\n",
       "      <th>3</th>\n",
       "      <td>cOLR-80286-356</td>\n",
       "      <td>369</td>\n",
       "      <td>2023-02-06</td>\n",
       "      <td>Rented</td>\n",
       "      <td>NaN</td>\n",
       "      <td>2023</td>\n",
       "      <td>2</td>\n",
       "    </tr>\n",
       "    <tr>\n",
       "      <th>5</th>\n",
       "      <td>rUNA-37125-575</td>\n",
       "      <td>8</td>\n",
       "      <td>2020-10-31</td>\n",
       "      <td>Rented</td>\n",
       "      <td>NaN</td>\n",
       "      <td>2020</td>\n",
       "      <td>10</td>\n",
       "    </tr>\n",
       "    <tr>\n",
       "      <th>8</th>\n",
       "      <td>pwEX-08327-691</td>\n",
       "      <td>975</td>\n",
       "      <td>2023-01-27</td>\n",
       "      <td>Rented</td>\n",
       "      <td>NaN</td>\n",
       "      <td>2023</td>\n",
       "      <td>1</td>\n",
       "    </tr>\n",
       "    <tr>\n",
       "      <th>12</th>\n",
       "      <td>IAvq-81643-870</td>\n",
       "      <td>169</td>\n",
       "      <td>2023-03-23</td>\n",
       "      <td>Rented</td>\n",
       "      <td>NaN</td>\n",
       "      <td>2023</td>\n",
       "      <td>3</td>\n",
       "    </tr>\n",
       "  </tbody>\n",
       "</table>\n",
       "</div>"
      ],
      "text/plain": [
       "         rental_id  customer_id rental_date rental_status return_date  \\\n",
       "1   uNLr-14032-611          806  2017-07-13        Rented         NaN   \n",
       "3   cOLR-80286-356          369  2023-02-06        Rented         NaN   \n",
       "5   rUNA-37125-575            8  2020-10-31        Rented         NaN   \n",
       "8   pwEX-08327-691          975  2023-01-27        Rented         NaN   \n",
       "12  IAvq-81643-870          169  2023-03-23        Rented         NaN   \n",
       "\n",
       "    extract_rental_year  extract_rental_month  \n",
       "1                  2017                     7  \n",
       "3                  2023                     2  \n",
       "5                  2020                    10  \n",
       "8                  2023                     1  \n",
       "12                 2023                     3  "
      ]
     },
     "execution_count": 39,
     "metadata": {},
     "output_type": "execute_result"
    }
   ],
   "source": [
    "rental_rented_data = rental_data[rental_data[\"rental_status\"] == \"Rented\"]\n",
    "\n",
    "rental_rented_data.head()"
   ]
  },
  {
   "cell_type": "code",
   "execution_count": 40,
   "metadata": {},
   "outputs": [
    {
     "data": {
      "text/html": [
       "<div>\n",
       "<style scoped>\n",
       "    .dataframe tbody tr th:only-of-type {\n",
       "        vertical-align: middle;\n",
       "    }\n",
       "\n",
       "    .dataframe tbody tr th {\n",
       "        vertical-align: top;\n",
       "    }\n",
       "\n",
       "    .dataframe thead th {\n",
       "        text-align: right;\n",
       "    }\n",
       "</style>\n",
       "<table border=\"1\" class=\"dataframe\">\n",
       "  <thead>\n",
       "    <tr style=\"text-align: right;\">\n",
       "      <th></th>\n",
       "      <th>rental_id</th>\n",
       "      <th>customer_id</th>\n",
       "      <th>rental_date</th>\n",
       "      <th>rental_status</th>\n",
       "      <th>return_date</th>\n",
       "      <th>extract_rental_year</th>\n",
       "      <th>extract_rental_month</th>\n",
       "    </tr>\n",
       "  </thead>\n",
       "  <tbody>\n",
       "    <tr>\n",
       "      <th>22</th>\n",
       "      <td>RPNn-48420-671</td>\n",
       "      <td>829</td>\n",
       "      <td>2015-04-24</td>\n",
       "      <td>Late</td>\n",
       "      <td>2015-04-25</td>\n",
       "      <td>2015</td>\n",
       "      <td>4</td>\n",
       "    </tr>\n",
       "    <tr>\n",
       "      <th>24</th>\n",
       "      <td>Hzhs-50547-102</td>\n",
       "      <td>163</td>\n",
       "      <td>2020-09-22</td>\n",
       "      <td>Late</td>\n",
       "      <td>2020-10-04</td>\n",
       "      <td>2020</td>\n",
       "      <td>9</td>\n",
       "    </tr>\n",
       "    <tr>\n",
       "      <th>44</th>\n",
       "      <td>NtJF-60489-705</td>\n",
       "      <td>869</td>\n",
       "      <td>2015-06-16</td>\n",
       "      <td>Late</td>\n",
       "      <td>2015-07-10</td>\n",
       "      <td>2015</td>\n",
       "      <td>6</td>\n",
       "    </tr>\n",
       "    <tr>\n",
       "      <th>69</th>\n",
       "      <td>RUvf-62160-670</td>\n",
       "      <td>710</td>\n",
       "      <td>2016-06-25</td>\n",
       "      <td>Late</td>\n",
       "      <td>2016-07-19</td>\n",
       "      <td>2016</td>\n",
       "      <td>6</td>\n",
       "    </tr>\n",
       "    <tr>\n",
       "      <th>70</th>\n",
       "      <td>gake-10221-119</td>\n",
       "      <td>516</td>\n",
       "      <td>2016-07-17</td>\n",
       "      <td>Late</td>\n",
       "      <td>2016-08-15</td>\n",
       "      <td>2016</td>\n",
       "      <td>7</td>\n",
       "    </tr>\n",
       "  </tbody>\n",
       "</table>\n",
       "</div>"
      ],
      "text/plain": [
       "         rental_id  customer_id rental_date rental_status return_date  \\\n",
       "22  RPNn-48420-671          829  2015-04-24          Late  2015-04-25   \n",
       "24  Hzhs-50547-102          163  2020-09-22          Late  2020-10-04   \n",
       "44  NtJF-60489-705          869  2015-06-16          Late  2015-07-10   \n",
       "69  RUvf-62160-670          710  2016-06-25          Late  2016-07-19   \n",
       "70  gake-10221-119          516  2016-07-17          Late  2016-08-15   \n",
       "\n",
       "    extract_rental_year  extract_rental_month  \n",
       "22                 2015                     4  \n",
       "24                 2020                     9  \n",
       "44                 2015                     6  \n",
       "69                 2016                     6  \n",
       "70                 2016                     7  "
      ]
     },
     "execution_count": 40,
     "metadata": {},
     "output_type": "execute_result"
    }
   ],
   "source": [
    "rental_late_data = rental_data[rental_data[\"rental_status\"] == \"Late\"]\n",
    "\n",
    "rental_late_data.head()"
   ]
  },
  {
   "cell_type": "markdown",
   "metadata": {},
   "source": [
    "### **Load Data**\n",
    "---"
   ]
  },
  {
   "cell_type": "markdown",
   "metadata": {},
   "source": [
    "Simpan ke dalam bentuk csv"
   ]
  },
  {
   "cell_type": "code",
   "execution_count": 41,
   "metadata": {},
   "outputs": [],
   "source": [
    "rental_returned_data.to_csv(\"rental_returned_data.csv\", index = False)\n",
    "rental_rented_data.to_csv(\"rental_rented_data.csv\", index = False)\n",
    "rental_late_data.to_csv(\"rental_late_data.csv\", index = False)"
   ]
  }
 ],
 "metadata": {
  "kernelspec": {
   "display_name": "myenv",
   "language": "python",
   "name": "python3"
  },
  "language_info": {
   "codemirror_mode": {
    "name": "ipython",
    "version": 3
   },
   "file_extension": ".py",
   "mimetype": "text/x-python",
   "name": "python",
   "nbconvert_exporter": "python",
   "pygments_lexer": "ipython3",
   "version": "3.9.17"
  }
 },
 "nbformat": 4,
 "nbformat_minor": 2
}
